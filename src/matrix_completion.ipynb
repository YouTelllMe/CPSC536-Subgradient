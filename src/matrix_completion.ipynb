{
 "cells": [
  {
   "cell_type": "code",
   "execution_count": 1,
   "metadata": {},
   "outputs": [],
   "source": [
    "from methods.subgradient import SubgradientDescent, Step\n",
    "from methods.helpers import random_matrix, random_vector, proj_pos_orthant\n",
    "import random\n",
    "import numpy as np\n",
    "import matplotlib.pyplot as plt\n",
    "\n",
    "\n",
    "def f_i(x, Y_i, c_i, A_i, B_i):\n",
    "    \"\"\"\n",
    "    Equation 1.2 of https://www.mit.edu/~dimitrib/Incr_2001.pdf\n",
    "    \"\"\"\n",
    "    # print(np.shape(x))\n",
    "    # print(np.shape(c_i))\n",
    "    # print(np.shape(A_i))\n",
    "    # print(np.shape(B_i))\n",
    "    # print(np.shape(Y_i[0]))\n",
    "\n",
    "    curr_best = -np.inf\n",
    "    minimizer = Y_i[0]\n",
    "    for y_i in Y_i:\n",
    "        objective = np.dot((c_i + np.matmul(np.transpose(A_i), x)), y_i) - np.dot(B_i, x)\n",
    "        curr_best = max(curr_best, objective)\n",
    "        minimizer = y_i\n",
    "    return (float(curr_best), minimizer)\n",
    "\n",
    "def g_i(A_i, y_i):\n",
    "    return np.matmul(A_i, y_i)"
   ]
  },
  {
   "cell_type": "code",
   "execution_count": 7,
   "metadata": {},
   "outputs": [
    {
     "name": "stdout",
     "output_type": "stream",
     "text": [
      "[array([ 0.37923864, -0.26107182]), array([0.92950413, 0.05828156]), array([-0.24351893, -0.15626478]), array([-0.6083193 , -0.09992473]), array([ 0.05474435, -0.76195753]), array([0.22241993, 0.29881143]), array([ 0.20683566, -0.47779608]), array([-0.53816208, -0.12517372]), array([ 0.91867241, -0.06439018]), array([ 0.84584518, -0.54644576])] \n",
      " [array([-0.55515803,  0.78442353]), array([ 0.11778548, -0.47347178])] \n",
      " [array([-0.01278646,  0.38994012]), array([-0.43888557,  0.49599372]), array([ 0.0786624, -0.1758368]), array([-0.48171813, -0.20965796]), array([-0.30876175, -0.25596157])] \n",
      " [array([0.3382583, 0.5992382]), array([0.43506903, 0.2260935 ]), array([-0.32746966,  0.40988345]), array([ 0.03240039, -0.57550051])] \n",
      " [array([0.25090845, 0.02833978]), array([-0.23680465,  0.20003086]), array([0.24147057, 0.56942964]), array([-0.05140059,  0.06920733]), array([-0.2006797 ,  0.46248169]), array([ 0.09596566, -0.05224009]), array([ 0.05982705, -0.60169473]), array([-0.34352125, -0.56014548])]\n"
     ]
    }
   ],
   "source": [
    "MAX_Y_SIZE = 10\n",
    "M = 5 # Example for m = 5\n",
    "n = 3\n",
    "p = 2\n",
    "\n",
    "c_1 = random_vector(p)\n",
    "c_2 = random_vector(p)\n",
    "c_3 = random_vector(p)\n",
    "c_4 = random_vector(p)\n",
    "c_5 = random_vector(p)\n",
    "\n",
    "A_1 = random_matrix(n, p)\n",
    "A_2 = random_matrix(n, p)\n",
    "A_3 = random_matrix(n, p)\n",
    "A_4 = random_matrix(n, p)\n",
    "A_5 = random_matrix(n, p)\n",
    "\n",
    "b = random_vector(n)\n",
    "B = b / M\n",
    "\n",
    "Y_1 = [random_vector(p) for _ in range(random.randint(1, MAX_Y_SIZE))]\n",
    "Y_2 = [random_vector(p) for _ in range(random.randint(1, MAX_Y_SIZE))]\n",
    "Y_3 = [random_vector(p) for _ in range(random.randint(1, MAX_Y_SIZE))]\n",
    "Y_4 = [random_vector(p) for _ in range(random.randint(1, MAX_Y_SIZE))]\n",
    "Y_5 = [random_vector(p) for _ in range(random.randint(1, MAX_Y_SIZE))]\n",
    "\n",
    "def f(x):\n",
    "    objective1, _ = f_i(x, Y_1, c_1, A_1, B)\n",
    "    objective2, _ = f_i(x, Y_2, c_2, A_2, B)\n",
    "    objective3, _ = f_i(x, Y_3, c_3, A_3, B)\n",
    "    objective4, _ = f_i(x, Y_4, c_4, A_4, B)\n",
    "    objective5, _ = f_i(x, Y_5, c_5, A_5, B)\n",
    "    return objective1+objective2+objective3+objective4+objective5\n",
    "\n",
    "\n",
    "print(Y_1, \"\\n\", Y_2,\"\\n\", Y_3,\"\\n\", Y_4,\"\\n\", Y_5)\n",
    "# f_i((0, 0, 0), Y_1, c_1, A_1, B)\n"
   ]
  },
  {
   "cell_type": "code",
   "execution_count": 15,
   "metadata": {},
   "outputs": [
    {
     "name": "stdout",
     "output_type": "stream",
     "text": [
      "2.317858901367165 100\n"
     ]
    },
    {
     "data": {
      "image/png": "[encoded data removed]",
      "text/plain": [
       "<Figure size 640x480 with 1 Axes>"
      ]
     },
     "metadata": {},
     "output_type": "display_data"
    }
   ],
   "source": [
    "MAX_ITERATIONS = 100\n",
    "\n",
    "# Original Subgradient Method\n",
    "step_size = 0.1\n",
    "curr_x = np.ones(n)\n",
    "prev_x = np.zeros(n)\n",
    "curr_best = np.inf\n",
    "epsilon = 10**(-6)\n",
    "iterations = 0\n",
    "objectives = []\n",
    "\n",
    "for i in range(MAX_ITERATIONS):\n",
    "    iterations += 1\n",
    "    prev_x = curr_x\n",
    "    curr_f = f(curr_x)\n",
    "    objectives.append(curr_f)\n",
    "    curr_best = min(curr_best, curr_f)\n",
    "    _, ymin_1 = f_i(curr_x, Y_1, c_1, A_1, B)\n",
    "    _, ymin_2 = f_i(curr_x, Y_2, c_2, A_2, B)\n",
    "    _, ymin_3 = f_i(curr_x, Y_3, c_3, A_3, B)\n",
    "    _, ymin_4 = f_i(curr_x, Y_4, c_4, A_4, B)\n",
    "    _, ymin_5 = f_i(curr_x, Y_5, c_5, A_5, B)\n",
    "    g_1 = g_i(A_1, ymin_1)\n",
    "    g_2 = g_i(A_2, ymin_2)\n",
    "    g_3 = g_i(A_3, ymin_3)\n",
    "    g_4 = g_i(A_4, ymin_4)\n",
    "    g_5 = g_i(A_5, ymin_5)\n",
    "\n",
    "    curr_x = proj_pos_orthant(curr_x-step_size*(g_1+g_2+g_3+g_4+g_5))\n",
    "    # print(curr_x)\n",
    "\n",
    "print(curr_best, iterations)\n",
    "x = range(iterations)\n",
    "y = objectives\n",
    "\n",
    "\n",
    "plt.figure()\n",
    "plt.plot(x, y, linewidth = 0.1, marker='.')\n",
    "plt.grid()\n",
    "plt.savefig(\"hello.png\")"
   ]
  }
 ],
 "metadata": {
  "kernelspec": {
   "display_name": ".venv",
   "language": "python",
   "name": "python3"
  },
  "language_info": {
   "codemirror_mode": {
    "name": "ipython",
    "version": 3
   },
   "file_extension": ".py",
   "mimetype": "text/x-python",
   "name": "python",
   "nbconvert_exporter": "python",
   "pygments_lexer": "ipython3",
   "version": "3.10.10"
  }
 },
 "nbformat": 4,
 "nbformat_minor": 2
}
