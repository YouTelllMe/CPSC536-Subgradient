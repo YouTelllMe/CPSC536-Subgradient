{
 "cells": [
  {
   "cell_type": "code",
   "execution_count": 1,
   "metadata": {},
   "outputs": [],
   "source": [
    "from methods.subgradient import SubgradientDescent, Step\n",
    "from methods.helpers import random_matrix, random_vector, proj_pos_orthant\n",
    "import random\n",
    "import numpy as np\n",
    "import matplotlib.pyplot as plt\n",
    "\n",
    "\n",
    "def f_i(x, Y_i, c_i, A_i, B_i):\n",
    "    \"\"\"\n",
    "    Equation 1.2 of https://www.mit.edu/~dimitrib/Incr_2001.pdf\n",
    "    \"\"\"\n",
    "    # print(np.shape(x))\n",
    "    # print(np.shape(c_i))\n",
    "    # print(np.shape(A_i))\n",
    "    # print(np.shape(B_i))\n",
    "    # print(np.shape(Y_i[0]))\n",
    "\n",
    "    curr_best = -np.inf\n",
    "    minimizer = Y_i[0]\n",
    "    for y_i in Y_i:\n",
    "        objective = np.dot((c_i + np.matmul(np.transpose(A_i), x)), y_i) - np.dot(B_i, x)\n",
    "        curr_best = max(curr_best, objective)\n",
    "        minimizer = y_i\n",
    "    return (float(curr_best), minimizer)\n",
    "\n",
    "def g_i(A_i, y_i):\n",
    "    return np.matmul(A_i, y_i)"
   ]
  },
  {
   "cell_type": "code",
   "execution_count": 2,
   "metadata": {},
   "outputs": [
    {
     "name": "stdout",
     "output_type": "stream",
     "text": [
      "[array([0.43593106, 0.56484567]), array([0.82799091, 0.8810636 ]), array([0.93474586, 0.27698236]), array([0.85943162, 0.47802514]), array([0.03367368, 0.79846926]), array([0.90258932, 0.7900701 ]), array([0.9690744 , 0.69614908]), array([0.54042501, 0.3863    ])] \n",
      " [array([0.60711796, 0.15503961]), array([0.06400519, 0.08866963]), array([0.43529644, 0.37483996]), array([0.32111574, 0.58646493]), array([0.88252667, 0.2971978 ]), array([0.47231094, 0.19657635])] \n",
      " [array([0.10573172, 0.87374438]), array([0.8443885 , 0.06653351]), array([0.74832671, 0.62954036])] \n",
      " [array([0.36219698, 0.11172044]), array([0.97091524, 0.51687308]), array([0.65528989, 0.11980951]), array([0.78181492, 0.29535593]), array([0.7351124 , 0.97412965]), array([0.25588812, 0.88968436]), array([0.80549604, 0.09909564]), array([0.58970034, 0.83982494]), array([0.27766214, 0.31064217])] \n",
      " [array([0.75762593, 0.31657536]), array([0.67600788, 0.22743307]), array([0.82215806, 0.85777278]), array([0.4563471, 0.8394363]), array([0.59116231, 0.49160594]), array([0.70218717, 0.67948104])]\n"
     ]
    }
   ],
   "source": [
    "MAX_Y_SIZE = 10\n",
    "M = 5 # Example for m = 5\n",
    "n = 3\n",
    "p = 2\n",
    "\n",
    "c_1 = random_vector(p)\n",
    "c_2 = random_vector(p)\n",
    "c_3 = random_vector(p)\n",
    "c_4 = random_vector(p)\n",
    "c_5 = random_vector(p)\n",
    "\n",
    "A_1 = random_matrix(n, p)\n",
    "A_2 = random_matrix(n, p)\n",
    "A_3 = random_matrix(n, p)\n",
    "A_4 = random_matrix(n, p)\n",
    "A_5 = random_matrix(n, p)\n",
    "\n",
    "b = random_vector(n)\n",
    "B = b / M\n",
    "\n",
    "Y_1 = [random_vector(p) for _ in range(random.randint(1, MAX_Y_SIZE))]\n",
    "Y_2 = [random_vector(p) for _ in range(random.randint(1, MAX_Y_SIZE))]\n",
    "Y_3 = [random_vector(p) for _ in range(random.randint(1, MAX_Y_SIZE))]\n",
    "Y_4 = [random_vector(p) for _ in range(random.randint(1, MAX_Y_SIZE))]\n",
    "Y_5 = [random_vector(p) for _ in range(random.randint(1, MAX_Y_SIZE))]\n",
    "\n",
    "def f(x):\n",
    "    objective1, _ = f_i(x, Y_1, c_1, A_1, B)\n",
    "    objective2, _ = f_i(x, Y_2, c_2, A_2, B)\n",
    "    objective3, _ = f_i(x, Y_3, c_3, A_3, B)\n",
    "    objective4, _ = f_i(x, Y_4, c_4, A_4, B)\n",
    "    objective5, _ = f_i(x, Y_5, c_5, A_5, B)\n",
    "    return objective1+objective2+objective3+objective4+objective5\n",
    "\n",
    "\n",
    "print(Y_1, \"\\n\", Y_2,\"\\n\", Y_3,\"\\n\", Y_4,\"\\n\", Y_5)\n",
    "# f_i((0, 0, 0), Y_1, c_1, A_1, B)\n"
   ]
  },
  {
   "cell_type": "code",
   "execution_count": 3,
   "metadata": {},
   "outputs": [
    {
     "name": "stdout",
     "output_type": "stream",
     "text": [
      "4.25372075121453 100\n"
     ]
    },
    {
     "data": {
      "image/png": "[encoded data removed]",
      "text/plain": [
       "<Figure size 640x480 with 1 Axes>"
      ]
     },
     "metadata": {},
     "output_type": "display_data"
    }
   ],
   "source": [
    "MAX_ITERATIONS = 100\n",
    "\n",
    "# Original Subgradient Method\n",
    "step_size = 0.1\n",
    "curr_x = np.ones(n)\n",
    "prev_x = np.zeros(n)\n",
    "curr_best = np.inf\n",
    "epsilon = 10**(-6)\n",
    "iterations = 0\n",
    "objectives = []\n",
    "\n",
    "for i in range(MAX_ITERATIONS):\n",
    "    iterations += 1\n",
    "    prev_x = curr_x\n",
    "    curr_f = f(curr_x)\n",
    "    objectives.append(curr_f)\n",
    "    curr_best = min(curr_best, curr_f)\n",
    "    _, ymin_1 = f_i(curr_x, Y_1, c_1, A_1, B)\n",
    "    _, ymin_2 = f_i(curr_x, Y_2, c_2, A_2, B)\n",
    "    _, ymin_3 = f_i(curr_x, Y_3, c_3, A_3, B)\n",
    "    _, ymin_4 = f_i(curr_x, Y_4, c_4, A_4, B)\n",
    "    _, ymin_5 = f_i(curr_x, Y_5, c_5, A_5, B)\n",
    "    g_1 = g_i(A_1, ymin_1)\n",
    "    g_2 = g_i(A_2, ymin_2)\n",
    "    g_3 = g_i(A_3, ymin_3)\n",
    "    g_4 = g_i(A_4, ymin_4)\n",
    "    g_5 = g_i(A_5, ymin_5)\n",
    "\n",
    "    curr_x = proj_pos_orthant(curr_x-step_size*(g_1+g_2+g_3+g_4+g_5))\n",
    "    # print(curr_x)\n",
    "\n",
    "print(curr_best, iterations)\n",
    "x = range(iterations)\n",
    "y = objectives\n",
    "\n",
    "\n",
    "plt.figure()\n",
    "plt.plot(x, y, linewidth = 0.1, marker='.')\n",
    "plt.grid()\n",
    "plt.savefig(\"hello.png\")"
   ]
  }
 ],
 "metadata": {
  "kernelspec": {
   "display_name": ".venv",
   "language": "python",
   "name": "python3"
  },
  "language_info": {
   "codemirror_mode": {
    "name": "ipython",
    "version": 3
   },
   "file_extension": ".py",
   "mimetype": "text/x-python",
   "name": "python",
   "nbconvert_exporter": "python",
   "pygments_lexer": "ipython3",
   "version": "3.10.10"
  }
 },
 "nbformat": 4,
 "nbformat_minor": 2
}
